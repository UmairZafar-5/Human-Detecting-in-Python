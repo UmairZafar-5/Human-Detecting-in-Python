{
 "cells": [
  {
   "cell_type": "markdown",
   "id": "f39e2c3c",
   "metadata": {},
   "source": [
    "# Libraries:"
   ]
  },
  {
   "cell_type": "markdown",
   "id": "fe3d2e13",
   "metadata": {},
   "source": [
    "To install the required library, run the following code in your terminal.\n",
    "\n",
    "OpenCV: A strong library used for machine learning\n",
    "\n",
    "Imutils: To Image Processing\n",
    "\n",
    "Numpy: Used for Scientific Computing. Image is stored in a numpy array.\n",
    "\n",
    "Argparse: Used to give input in command line."
   ]
  },
  {
   "cell_type": "code",
   "execution_count": 1,
   "id": "4546b67f",
   "metadata": {},
   "outputs": [],
   "source": [
    "#!pip install opencv-python\n",
    "#!pip install imutils\n",
    "#!pip install numpy"
   ]
  },
  {
   "cell_type": "markdown",
   "id": "478401ba",
   "metadata": {},
   "source": [
    "# Import the libraries:"
   ]
  },
  {
   "cell_type": "code",
   "execution_count": 12,
   "id": "fe80aaca",
   "metadata": {},
   "outputs": [],
   "source": [
    "import cv2\n",
    "import imutils\n",
    "import numpy as np\n",
    "import argparse\n",
    "from IPython import display"
   ]
  },
  {
   "cell_type": "markdown",
   "id": "56c5b4a3",
   "metadata": {},
   "source": [
    "# Create a model which will detect Humans:"
   ]
  },
  {
   "cell_type": "code",
   "execution_count": 3,
   "id": "64936667",
   "metadata": {},
   "outputs": [],
   "source": [
    "#We will use HOGDescriptor with SVM already implemented in OpenCV.  Below code will do this work:\n",
    "\n",
    "HOGCV = cv2.HOGDescriptor()\n",
    "HOGCV.setSVMDetector(cv2.HOGDescriptor_getDefaultPeopleDetector())\n",
    "\n",
    "#cv2.HOGDescriptor_getDefaultPeopleDetector() calls the pre-trained model for Human detection of OpenCV and then \n",
    "#we will feed our support vector machine with it."
   ]
  },
  {
   "cell_type": "markdown",
   "id": "74205073",
   "metadata": {},
   "source": [
    "# Detect() method:"
   ]
  },
  {
   "cell_type": "markdown",
   "id": "025127ca",
   "metadata": {},
   "source": [
    "Here, the actual magic will happen.\n",
    "\n",
    "Video: A video combines a sequence of images to form a moving picture. We call these images as Frame. So in general we will detect the person in the frame. And show it one after another that it looks like a video.\n",
    "\n",
    "That is exactly what our Detect() method will do.  It will take a frame to detect a person in it. Make a box around a person and show the frame..and return the frame with person bounded by a green box."
   ]
  },
  {
   "cell_type": "code",
   "execution_count": 4,
   "id": "65acf35f",
   "metadata": {},
   "outputs": [],
   "source": [
    "def detect(frame):\n",
    "    bounding_box_cordinates, weights =  HOGCV.detectMultiScale(frame, winStride = (4, 4), padding = (8, 8), scale = 1.05)\n",
    "    \n",
    "    #bounding_box_cordinates, weights =  HOGCV.detectMultiScale(frame, winStride=(5, 5), padding=(3, 3), scale=1.21)\n",
    "    \n",
    "    person = 1\n",
    "    for x,y,w,h in bounding_box_cordinates:\n",
    "        cv2.rectangle(frame, (x,y), (x+w,y+h), (0,255,0), 2)\n",
    "        cv2.putText(frame, f'person {person}', (x,y), cv2.FONT_HERSHEY_SIMPLEX, 0.5, (0,0,255), 1)\n",
    "        person += 1\n",
    "    \n",
    "    cv2.putText(frame, 'Status : Detecting ', (40,40), cv2.FONT_HERSHEY_DUPLEX, 0.8, (255,0,0), 2)\n",
    "    cv2.putText(frame, f'Total Persons : {person-1}', (40,70), cv2.FONT_HERSHEY_DUPLEX, 0.8, (255,0,0), 2)\n",
    "    cv2.imshow('output', frame)\n",
    "\n",
    "    return frame"
   ]
  },
  {
   "cell_type": "markdown",
   "id": "c20603aa",
   "metadata": {},
   "source": [
    "Everything will be done by detectMultiScale(). It returns 2-tuple.\n",
    "\n",
    "List containing Coordinates of bounding Box of person.\n",
    "Coordinates are in form X, Y, W, H.\n",
    "Where x,y are starting coordinates of box and w, h are width and height of box respectively.\n",
    "Confidence Value that it is a person.\n",
    "Now, We have our detect method. Let’s Create a Detector."
   ]
  },
  {
   "cell_type": "markdown",
   "id": "be890375",
   "metadata": {},
   "source": [
    "# HumanDetector() method:"
   ]
  },
  {
   "cell_type": "markdown",
   "id": "24fd5b37",
   "metadata": {},
   "source": [
    "There are two ways of getting Video.\n",
    "\n",
    "1. Web Camera\n",
    "2. Path of file stored\n",
    "\n",
    "In this deep learning project, we can take images also. So our method will check if a path is given then search for the video or image in the given path and operate. Otherwise, it will open the webCam."
   ]
  },
  {
   "cell_type": "code",
   "execution_count": 5,
   "id": "67925877",
   "metadata": {},
   "outputs": [],
   "source": [
    "def humanDetector(args):\n",
    "    image_path = args[\"image\"]\n",
    "    video_path = args['video']\n",
    "    \n",
    "    #image_path =\"./Human.jpg\"\n",
    "    \n",
    "    if str(args[\"camera\"]) == 'true' : camera = True \n",
    "    else : camera = False\n",
    "\n",
    "    writer = None\n",
    "    if args['output'] is not None and image_path is None:\n",
    "        writer = cv2.VideoWriter(args['output'],cv2.VideoWriter_fourcc(*'MJPG'), 10, (600,600))\n",
    "\n",
    "    if camera:\n",
    "        print('[INFO] Opening Web Cam.')\n",
    "        detectByCamera(ouput_path,writer)\n",
    "    elif video_path is not None:\n",
    "        print('[INFO] Opening Video from path.')\n",
    "        detectByPathVideo(video_path, writer)\n",
    "    elif image_path is not None:\n",
    "        print('[INFO] Opening Image from path.')\n",
    "        detectByPathImage(image_path, args['output'])"
   ]
  },
  {
   "cell_type": "markdown",
   "id": "e2be0da6",
   "metadata": {},
   "source": [
    "# DetectByCamera() method:"
   ]
  },
  {
   "cell_type": "code",
   "execution_count": 6,
   "id": "ba93142f",
   "metadata": {},
   "outputs": [],
   "source": [
    "def detectByCamera(writer):   \n",
    "    video = cv2.VideoCapture(0)\n",
    "    print('Detecting people...')\n",
    "\n",
    "    while True:\n",
    "        check, frame = video.read()\n",
    "\n",
    "        frame = detect(frame)\n",
    "        if writer is not None:\n",
    "            writer.write(frame)\n",
    "\n",
    "        key = cv2.waitKey(1)\n",
    "        if key == ord('q'):\n",
    "            break\n",
    "\n",
    "    video.release()\n",
    "    cv2.destroyAllWindows()"
   ]
  },
  {
   "cell_type": "markdown",
   "id": "9fcecf8f",
   "metadata": {},
   "source": [
    "cv2.VideoCapture(0) passing 0 in this function means we want to record from a webcam. video.read() read frame by frame. It returns a check which is True if this was able to read a frame otherwise False.\n",
    "\n",
    "Now, For each Frame, we will call detect() method. Then we write the frame in our output file."
   ]
  },
  {
   "cell_type": "markdown",
   "id": "213d29e8",
   "metadata": {},
   "source": [
    "# DetectByPathVideo() method:"
   ]
  },
  {
   "cell_type": "markdown",
   "id": "44e40ce0",
   "metadata": {},
   "source": [
    "This method is very similar to the previous method except we will give a path to the Video. First, we check if the video on the provided path is found or not.\n",
    "\n",
    "Note – A full path must be given."
   ]
  },
  {
   "cell_type": "code",
   "execution_count": 7,
   "id": "4b936e6e",
   "metadata": {},
   "outputs": [],
   "source": [
    "def detectByPathVideo(path, writer):\n",
    "\n",
    "    video = cv2.VideoCapture(path)\n",
    "    check, frame = video.read()\n",
    "    if check == False:\n",
    "        print('Video Not Found. Please Enter a Valid Path (Full path of Video Should be Provided).')\n",
    "        return\n",
    "\n",
    "    print('Detecting people...')\n",
    "    while video.isOpened():\n",
    "        #check is True if reading was successful \n",
    "        check, frame =  video.read()\n",
    "\n",
    "        if check:\n",
    "            frame = imutils.resize(frame , width=min(400,frame.shape[1]))\n",
    "            frame = detect(frame)\n",
    "            \n",
    "            if writer is not None:\n",
    "                writer.write(frame)\n",
    "            \n",
    "            key = cv2.waitKey(1)\n",
    "            if key== ord('q'):\n",
    "                break\n",
    "        else:\n",
    "            break\n",
    "    video.release()\n",
    "    cv2.destroyAllWindows()"
   ]
  },
  {
   "cell_type": "markdown",
   "id": "e7e1a59b",
   "metadata": {},
   "source": [
    "The implementation is similar to the previous function except for each frame we will check that it successfully reads the frame or not. At the end when the frame is not read we will end the loop."
   ]
  },
  {
   "cell_type": "markdown",
   "id": "2a40ca87",
   "metadata": {},
   "source": [
    "# DetectByPathimage() method:"
   ]
  },
  {
   "cell_type": "markdown",
   "id": "cbda99ad",
   "metadata": {},
   "source": [
    "This method is used if a person needs to be detected from an image."
   ]
  },
  {
   "cell_type": "code",
   "execution_count": 8,
   "id": "12421f93",
   "metadata": {},
   "outputs": [],
   "source": [
    "def detectByPathImage(path, output_path):\n",
    "    image = cv2.imread(path)\n",
    "\n",
    "    image = imutils.resize(image, width = min(800, image.shape[1])) \n",
    "\n",
    "    result_image = detect(image)\n",
    "    display.Image(result_image)\n",
    "\n",
    "    if output_path is not None:\n",
    "        cv2.imwrite(output_path, result_image)\n",
    "\n",
    "    cv2.waitKey(0)\n",
    "    cv2.destroyAllWindows()"
   ]
  },
  {
   "cell_type": "markdown",
   "id": "1e5da18d",
   "metadata": {},
   "source": [
    "# Argparse() method:"
   ]
  },
  {
   "cell_type": "markdown",
   "id": "b9f58cbe",
   "metadata": {},
   "source": [
    "The function argparse() simply parses and returns as a dictionary the arguments passed through your terminal to our script. There will be Three arguments within the Parser:\n",
    "\n",
    "1. Image: The path to the image file inside your system\n",
    "2. Video: The path to the Video file inside your system\n",
    "3. Camera: A variable that if set to ‘true’ will call the cameraDetect() method."
   ]
  },
  {
   "cell_type": "code",
   "execution_count": 9,
   "id": "e11e8d7d",
   "metadata": {},
   "outputs": [],
   "source": [
    "def argsParser():\n",
    "    arg_parse = argparse.ArgumentParser()\n",
    "    arg_parse.add_argument(\"-v\", \"--video\", default=None, help=\"path to Video File \")\n",
    "    arg_parse.add_argument(\"-i\", \"--image\", default=None, help=\"path to Image File \")\n",
    "    arg_parse.add_argument(\"-c\", \"--camera\", default=False, help=\"Set true if you want to use the camera.\")\n",
    "    arg_parse.add_argument(\"-o\", \"--output\", type=str, help=\"path to optional output video file\")\n",
    "    args = vars(arg_parse.parse_args())\n",
    "\n",
    "    return args"
   ]
  },
  {
   "cell_type": "markdown",
   "id": "eacbcba4",
   "metadata": {},
   "source": [
    "# Main function:"
   ]
  },
  {
   "cell_type": "markdown",
   "id": "666e9e01",
   "metadata": {},
   "source": [
    "We have reached the end of our project."
   ]
  },
  {
   "cell_type": "code",
   "execution_count": 19,
   "id": "342b3b71",
   "metadata": {
    "scrolled": true
   },
   "outputs": [
    {
     "name": "stdout",
     "output_type": "stream",
     "text": [
      "[INFO] Opening Image from path.\n"
     ]
    }
   ],
   "source": [
    "if __name__ == \"__main__\":\n",
    "    HOGCV = cv2.HOGDescriptor()\n",
    "    HOGCV.setSVMDetector(cv2.HOGDescriptor_getDefaultPeopleDetector())\n",
    "\n",
    "    #args = argsParser()\n",
    "    #humanDetector(\"a\")\n",
    "    \n",
    "    print('[INFO] Opening Image from path.')\n",
    "    writer = cv2.VideoWriter(\"HumanWalkingOutput.mp4\",cv2.VideoWriter_fourcc(*'MJPG'), 10, (600,600))\n",
    "    #writer=None\n",
    "    #detectByPathVideo(\"./Desktop/AI_Images/HumanWalking1_Trim.mp4\",writer)\n",
    "    \n",
    "    #detectByCamera(writer)\n",
    "    \n",
    "    detectByPathImage(\"./Desktop/AI_Images/Human2.jpg\",\"./Desktop/AI_Images/Human2Result.jpg\")"
   ]
  }
 ],
 "metadata": {
  "kernelspec": {
   "display_name": "Python 3",
   "language": "python",
   "name": "python3"
  },
  "language_info": {
   "codemirror_mode": {
    "name": "ipython",
    "version": 3
   },
   "file_extension": ".py",
   "mimetype": "text/x-python",
   "name": "python",
   "nbconvert_exporter": "python",
   "pygments_lexer": "ipython3",
   "version": "3.8.8"
  }
 },
 "nbformat": 4,
 "nbformat_minor": 5
}
